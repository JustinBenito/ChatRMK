{
  "nbformat": 4,
  "nbformat_minor": 0,
  "metadata": {
    "colab": {
      "provenance": []
    },
    "kernelspec": {
      "name": "python3",
      "display_name": "Python 3"
    },
    "language_info": {
      "name": "python"
    }
  },
  "cells": [
    {
      "cell_type": "code",
      "execution_count": null,
      "metadata": {
        "id": "oR7Ls8c6RRUN"
      },
      "outputs": [],
      "source": [
        "!pip install llama-index\n",
        "!pip install langchain\n"
      ]
    },
    {
      "cell_type": "code",
      "source": [
        "from llama_index.readers.web import BeautifulSoupWebReader\n",
        "\n",
        "from langchain import OpenAI\n",
        "from llama_index.node_parser import SimpleNodeParser\n",
        "from llama_index import (GPTVectorStoreIndex, LLMPredictor, PromptHelper, ServiceContext, download_loader)\n",
        "import sys\n",
        "import os\n",
        "from IPython.display import Markdown, display\n",
        "\n",
        "\n"
      ],
      "metadata": {
        "id": "4ynEnPD2od1z"
      },
      "execution_count": 2,
      "outputs": []
    },
    {
      "cell_type": "code",
      "source": [
        "os.environ[\"OPENAI_API_KEY\"] = input(\"Your API Key\")"
      ],
      "metadata": {
        "id": "8coXDscDrLUK"
      },
      "execution_count": null,
      "outputs": []
    },
    {
      "cell_type": "code",
      "source": [
        "from llama_index import ServiceContext, StorageContext\n",
        "\n",
        "def construct_index():\n",
        "    urls = [\n",
        "    \"https://www.rmkec.ac.in/2023\",\n",
        "    \"https://www.rmkec.ac.in/2023/about-us-3/about-us/\",\n",
        "    \"https://www.rmkec.ac.in/2023/about-us-3/about-us-2/\",\n",
        "    \"https://www.rmkec.ac.in/2023/about-us-3/management-team/\",\n",
        "    \"https://www.rmkec.ac.in/2023/about-us-3/vision-mission/\",\n",
        "    \"https://www.rmkec.ac.in/2023/about-us-3/quality-policy/\",\n",
        "    \"https://www.rmkec.ac.in/2023/administration/governing-board/\",\n",
        "    \"https://www.rmkec.ac.in/2023/administration/advisor-02/\",\n",
        "    \"https://www.rmkec.ac.in/2023/administration/principal/\",\n",
        "    \"https://www.rmkec.ac.in/2023/administration/dean-research/\",\n",
        "    \"https://www.rmkec.ac.in/2023/administration/dean/\",\n",
        "    \"https://www.rmkec.ac.in/2023/administration/academic-co-ordinator/\",\n",
        "    \"https://www.rmkec.ac.in/2023/administration/admission-procedure/\",\n",
        "    \"https://www.rmkec.ac.in/2023/administration/committee/anti-ragging-committee/\",\n",
        "    \"https://www.rmkec.ac.in/2023/administration/committee/planning-monitoring-committee/\",\n",
        "    \"https://www.rmkec.ac.in/2023/administration/committee/anti-ragging-squad/\",\n",
        "    \"https://www.rmkec.ac.in/2023/administration/committee/the-internal-complaints-committee/\",\n",
        "    \"https://www.rmkec.ac.in/2023/administration/committee/disciplinary-and-welfare-committee/\",\n",
        "    \"https://www.rmkec.ac.in/2023/administration/committee/the-grievances-and-redressal-committee/\",\n",
        "    \"https://www.rmkec.ac.in/2023/administration/committee/aicte-eoa/\",\n",
        "    \"https://www.rmkec.ac.in/2023/budget/\",\n",
        "    \"https://www.rmkec.ac.in/2023/academics/regulation/\",\n",
        "    \"https://www.rmkec.ac.in/2023/academics/curriculum-and-syllabus/\",\n",
        "    \"https://www.rmkec.ac.in/2023/academics/courses-offered/\",\n",
        "    \"https://www.rmkec.ac.in/2023/academics/academic-schedule/\",\n",
        "    \"https://www.rmkec.ac.in/2023/academics/rules-and-regulations/\",\n",
        "    \"https://www.rmkec.ac.in/2023/academics/antiragging/\",\n",
        "    \"https://www.rmkec.ac.in/2023/academics/research/\",\n",
        "    \"https://www.rmkec.ac.in/2023/academics/scholarships/\",\n",
        "    \"https://www.rmkec.ac.in/2023/aids/about-the-department/\",\n",
        "    \"https://www.rmkec.ac.in/2023/dep_civil_eng/about-the-department/\",\n",
        "    \"https://www.rmkec.ac.in/2023/btech/about-the-department/\",\n",
        "    \"https://www.rmkec.ac.in/2023/cs_design/about-the-department/\",\n",
        "    \"https://www.rmkec.ac.in/2023/computerscience_eng/about-the-department/\",\n",
        "    \"https://www.rmkec.ac.in/2023/ee_eng/about-the-department/\",\n",
        "    \"https://www.rmkec.ac.in/2023/ec_eng/about-the-department/\",\n",
        "    \"https://www.rmkec.ac.in/2023/ei_eng/about-the-department/\",\n",
        "    \"https://www.rmkec.ac.in/2023/infotech_eng/about-the-department/\",\n",
        "    \"https://www.rmkec.ac.in/2023/mechanical_eng/about-the-department/\",\n",
        "    \"https://www.rmkec.ac.in/2023/science_humanities/about-the-department/\",\n",
        "    \"https://www.rmkec.ac.in/2023/physical_edu/about-physical-education/\",\n",
        "    \"https://www.rmkec.ac.in/2023/training_placement/about-training-and-placement/\",\n",
        "    \"https://www.rmkec.ac.in/2023/coe_dep/about-coe/\",\n",
        "    \"https://www.rmkec.ac.in/2023/higher_edu/about-higher-education-cell/\",\n",
        "    \"https://www.rmkec.ac.in/2023/cffl/about-cfl/\",\n",
        "    \"https://www.rmkec.ac.in/2023/news-events/\",\n",
        "    \"https://www.rmkec.ac.in/2023/campus/general-facilities/\",\n",
        "    \"https://www.rmkec.ac.in/2023/compcent/computer-center/\",\n",
        "    \"https://www.rmkec.ac.in/2023/cl/about-central-library/\",\n",
        "    \"https://www.rmkec.ac.in/2023/campus/green-campus/\",\n",
        "    \"https://www.rmkec.ac.in/2023/campus/hostel/\",\n",
        "    \"https://www.rmkec.ac.in/2023/campus/transport/\",\n",
        "    \"https://www.rmkec.ac.in/2023/campus/hospital/\",\n",
        "    \"https://www.rmkec.ac.in/2023/campus/gymnasium/\",\n",
        "    \"https://www.rmkec.ac.in/2023/entrepreneurship/about-cie/\",\n",
        "    \"https://www.rmkec.ac.in/2023/entrepreneurship/ariia-ranking/\",\n",
        "    \"https://www.rmkec.ac.in/2023/entrepreneurship/policy-documents/\",\n",
        "    \"https://www.rmkec.ac.in/2023/entrepreneurship/policy-documents/rmkec-policy/\",\n",
        "    \"https://www.rmkec.ac.in/2023/entrepreneurship/policy-documents/national-policy/\",\n",
        "    \"https://www.rmkec.ac.in/2023/entrepreneurship/policy-documents/tamilnadu-policy/\",\n",
        "    \"https://www.rmkec.ac.in/2023/entrepreneurship/iic/\",\n",
        "    \"https://www.rmkec.ac.in/2023/entrepreneurship/iic/about-iic/\",\n",
        "    \"https://www.rmkec.ac.in/2023/entrepreneurship/iic/innovation-ambassador-programme/\",\n",
        "    \"https://www.rmkec.ac.in/2023/entrepreneurship/msme/\",\n",
        "    \"https://www.rmkec.ac.in/2023/entrepreneurship/msme/about-msme/\",\n",
        "    \"https://www.rmkec.ac.in/2023/entrepreneurship/msme/msme-committee-members/\",\n",
        "    \"https://www.rmkec.ac.in/2023/entrepreneurship/msme/msme-approval-letter/\",\n",
        "    \"https://www.rmkec.ac.in/2023/entrepreneurship/msme/selected-ideas-for-incubation/\",\n",
        "    \"https://www.rmkec.ac.in/2023/entrepreneurship/msme/rmk-startup/\",\n",
        "    \"https://www.rmkec.ac.in/2023/entrepreneurship/msme/msme-activities/\",\n",
        "    \"https://www.rmkec.ac.in/2023/entrepreneurship/startups-in-rmkec-incubation-center/\",\n",
        "    \"https://www.rmkec.ac.in/2023/entrepreneurship/iedc/\",\n",
        "    \"https://www.rmkec.ac.in/2023/ecell/about-e-cell/\",\n",
        "    \"https://www.rmkec.ac.in/2023/entrepreneurship/ipr-cell/\",\n",
        "    \"https://www.rmkec.ac.in/2023/entrepreneurship/ipr-cell/patent-list/\",\n",
        "    \"https://www.rmkec.ac.in/2023/entrepreneurship/ipr-cell/ipr-policy/\",\n",
        "    \"https://www.rmkec.ac.in/2023/entrepreneurship/ipr-cell/filing-procedure/\",\n",
        "    \"https://www.rmkec.ac.in/2023/entrepreneurship/rmk-store/\",\n",
        "    \"https://www.rmkec.ac.in/2023/accreditation/nba/\",\n",
        "    \"https://www.rmkec.ac.in/2023/accreditation/naac/naac-ssr-aqar/\",\n",
        "    \"https://www.rmkec.ac.in/2023/accreditation/nirf/nirf-disclosure/\",\n",
        "    \"https://www.rmkec.ac.in/2023/contact-us/contact/\",\n",
        "    \"https://www.rmkec.ac.in/2023/contact-us/grievances/\",\n",
        "    \"https://www.rmkec.ac.in/admission2023/sendotp1.php\",\n",
        "    \"https://www.rmkec.ac.in/2023/global-education-leadership-achievement-award-london-2023/\",\n",
        "    \"https://www.rmkec.ac.in/2023/entrepreneurship/rmk-store/\",\n",
        "    \"https://www.rmkec.ac.in/2023/about-us\",\n",
        "    \"https://www.rmkec.ac.in/2023/research\",\n",
        "    \"https://www.rmkec.ac.in/2023/campus/general-facilities/\",\n",
        "    \"https://www.rmkec.ac.in/2023/campus/central-library/\",\n",
        "    \"https://www.rmkec.ac.in/2023/campus/computer-centre/\",\n",
        "    \"https://www.rmkec.ac.in/2023/global-education-leadership-achievement-award-london-2023/\",\n",
        "    \"https://www.rmkec.ac.in/2023/global-education-leadership-achievement-award-london-2023/\",\n",
        "    \"https://www.rmkec.ac.in/2023/rmk-glancevillage-hackathon/\",\n",
        "    \"https://www.rmkec.ac.in/2023/rmk-glancevillage-hackathon/\",\n",
        "    \"https://www.rmkec.ac.in/2023/international-conference-on-intelligent-computing-smart-communication-and-network-technologies-icicscnt-2023/\",\n",
        "    \"https://www.rmkec.ac.in/2023/international-conference-on-intelligent-computing-smart-communication-and-network-technologies-icicscnt-2023/\",\n",
        "    \"https://www.rmkec.ac.in/2023/news-events\",\n",
        "    \"https://www.rmkec.ac.in/2023/about-us/\",\n",
        "    \"https://www.rmkec.ac.in/2023/about-us-3/\",\n",
        "    \"https://www.rmkec.ac.in/2023/administration/\",\n",
        "    \"https://www.rmkec.ac.in/2023/academics/\",\n",
        "    \"https://www.rmkec.ac.in/2023/contact-us/\",\n",
        "    \"https://www.rmkec.ac.in/2023/training_placement/about-training-and-placement/\",\n",
        "    \"https://www.rmkec.ac.in/2023/higher_edu/about-higher-education-cell/\",\n",
        "    \"https://www.rmkec.ac.in/2023/ecell/about-e-cell/\",\n",
        "    \"https://www.rmkec.ac.in/2023/dep_civil_eng/about-the-department/\",\n",
        "    \"https://www.rmkec.ac.in/2023/computerscience_eng/about-the-department/\",\n",
        "    \"https://www.rmkec.ac.in/2023/cs_design/about-the-department/\",\n",
        "    \"https://www.rmkec.ac.in/2023/ee_eng/\",\n",
        "    \"https://www.rmkec.ac.in/2023/ec_eng/\",\n",
        "    \"https://www.rmkec.ac.in/2023/mechanical_eng/\",\n",
        "    \"https://www.rmkec.ac.in/2023/aids/about-the-department/\",\n",
        "    \"https://www.rmkec.ac.in/2023/btech/about-the-department/\",\n",
        "    \"https://www.rmkec.ac.in/2023/infotech_eng/about-the-department/\",\n",
        "  ]\n",
        "    max_input_size = 4096\n",
        "\n",
        "    num_outputs = 3000\n",
        "\n",
        "    max_chunk_overlap = 20\n",
        "\n",
        "    chunk_size_limit = 600 \n",
        "\n",
        "\n",
        "    prompt_helper = PromptHelper(max_input_size, num_outputs, max_chunk_overlap, chunk_size_limit=chunk_size_limit)\n",
        "\n",
        "    llm_predictor = LLMPredictor(llm=OpenAI(temperature=0.1, model_name=\"text-davinci-003\", max_tokens=num_outputs))\n",
        " \n",
        "\n",
        "\n",
        "    BeautifulSoupWebReader = download_loader(\"BeautifulSoupWebReader\")\n",
        "    loader = BeautifulSoupWebReader()\n",
        "    documents=loader.load_data(urls)\n",
        "    parser=SimpleNodeParser()\n",
        "    nodes=parser.get_nodes_from_documents(documents)\n",
        "\n",
        "\n",
        "\n",
        "    service_context = ServiceContext.from_defaults(llm_predictor=llm_predictor, prompt_helper=prompt_helper)\n",
        "    index = GPTVectorStoreIndex.from_documents(nodes, service_context=service_context)\n",
        "\n",
        "    index.storage_context.persist(persist_dir='index.json')\n",
        "\n",
        "    return index"
      ],
      "metadata": {
        "id": "gQ23NjQZqIbd"
      },
      "execution_count": 4,
      "outputs": []
    },
    {
      "cell_type": "code",
      "source": [
        "from llama_index import load_index_from_storage\n",
        "def ask_ai(question):\n",
        "    storage_context=StorageContext.from_defaults(persist_dir='index.json')\n",
        "    index=load_index_from_storage(storage_context)\n",
        "    query_engine=index.as_query_engine()\n",
        "    response=query_engine.query(question)\n",
        "    return response\n",
        "   "
      ],
      "metadata": {
        "id": "1i6kk4Gvqyim"
      },
      "execution_count": 5,
      "outputs": []
    },
    {
      "cell_type": "code",
      "source": [
        "construct_index()"
      ],
      "metadata": {
        "id": "uPKCO7vArVS9"
      },
      "execution_count": null,
      "outputs": []
    },
    {
      "cell_type": "code",
      "source": [
        "response=ask_ai('Why RMK is the Best College')"
      ],
      "metadata": {
        "id": "9tfeRi9GrcEI"
      },
      "execution_count": 12,
      "outputs": []
    },
    {
      "cell_type": "code",
      "source": [
        "response.response"
      ],
      "metadata": {
        "id": "SM6H7cfjIgSD"
      },
      "execution_count": null,
      "outputs": []
    }
  ]
}